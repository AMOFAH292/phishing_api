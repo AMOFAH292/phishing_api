{
 "cells": [
  {
   "cell_type": "code",
   "execution_count": 11,
   "metadata": {
    "colab": {
     "base_uri": "https://localhost:8080/"
    },
    "executionInfo": {
     "elapsed": 19,
     "status": "ok",
     "timestamp": 1756212997881,
     "user": {
      "displayName": "Felix Adu Mensah Amofah",
      "userId": "05830727342859205528"
     },
     "user_tz": 180
    },
    "id": "DClImie1Yqrn",
    "outputId": "07ac564a-17d2-4d0c-bcb4-de464c7458a8"
   },
   "outputs": [
    {
     "name": "stdout",
     "output_type": "stream",
     "text": [
      "Sample URL: https://google.com\n",
      "Prediction: legit\n",
      "Probability of being phishing: 0.14%\n"
     ]
    }
   ],
   "source": [
    "\n",
    "import re\n",
    "from sklearn.preprocessing import StandardScaler\n",
    "import joblib\n",
    "\n",
    "# Assuming the model and scaler are already trained and available\n",
    "# If you saved them, load them first:\n",
    "# model = joblib.load('model.pkl')\n",
    "# scaler = joblib.load('scaler.pkl')\n",
    "\n",
    "model = joblib.load('/PHISHING_MODEL/model.pkl')\n",
    "scaler = joblib.load('/PHISHING_MODEL/scaler.pkl')\n",
    "\n",
    "\n",
    "def extract_features(url):\n",
    "    features = {\n",
    "        'url_length': len(url),\n",
    "        'has_ip': int(bool(re.search(r'(\\d{1,3}\\.){3}\\d{1,3}', url))),\n",
    "        'has_at_symbol': int('@' in url),\n",
    "        'has_hyphen': int('-' in url),\n",
    "        'num_dots': url.count('.'),\n",
    "        'has_https': int('https' in url),\n",
    "        'count_www': url.count('www'),\n",
    "        'count_slash': url.count('/'),\n",
    "        'count_percent': url.count('%'),\n",
    "    }\n",
    "    return list(features.values())\n",
    "\n",
    "# Sample URL to test\n",
    "sample_url = \"https://google.com\"\n",
    "\n",
    "# Step 1: Extract features from the sample URL\n",
    "sample_features = extract_features(sample_url)\n",
    "\n",
    "# Step 2: Scale the features using the same scaler\n",
    "sample_features_scaled = scaler.transform([sample_features])  # Note: scaler expects a list of feature vectors\n",
    "\n",
    "# Step 3: Predict using the trained model\n",
    "prediction = model.predict(sample_features_scaled)\n",
    "prediction_proba = model.predict_proba(sample_features_scaled)  # Optional: Get probability scores\n",
    "\n",
    "# Step 4: Output the result\n",
    "print(f\"Sample URL: {sample_url}\")\n",
    "print(f\"Prediction: {'phishing' if prediction[0] == 1 else 'legit'}\")\n",
    "print(f\"Probability of being phishing: {prediction_proba[0][1]*100:.2f}%\")"
   ]
  },
  {
   "cell_type": "code",
   "execution_count": 1,
   "metadata": {},
   "outputs": [
    {
     "name": "stdout",
     "output_type": "stream",
     "text": [
      "Status code: 200\n",
      "Response JSON: {'confidence': '100.00', 'prediction': 'phishing', 'url': 'http://example.com'}\n"
     ]
    }
   ],
   "source": [
    "import requests\n",
    "\n",
    "# Your API endpoint\n",
    "url = \"https://phishing-api-6t02.onrender.com/predict\"\n",
    "\n",
    "# Data to send\n",
    "payload = {\n",
    "    \"url\": \"http://example.com\"\n",
    "}\n",
    "\n",
    "# Send POST request\n",
    "response = requests.post(url, json=payload)\n",
    "\n",
    "# Print result\n",
    "print(\"Status code:\", response.status_code)\n",
    "print(\"Response JSON:\", response.json())\n"
   ]
  }
 ],
 "metadata": {
  "colab": {
   "authorship_tag": "ABX9TyNxi4VI0fbliKLlSjqiSxeG",
   "mount_file_id": "1v0SDHYikmTRUetr-DDSDV-ztD0IcrwSU",
   "provenance": []
  },
  "kernelspec": {
   "display_name": "Python [conda env:base] *",
   "language": "python",
   "name": "conda-base-py"
  },
  "language_info": {
   "codemirror_mode": {
    "name": "ipython",
    "version": 3
   },
   "file_extension": ".py",
   "mimetype": "text/x-python",
   "name": "python",
   "nbconvert_exporter": "python",
   "pygments_lexer": "ipython3",
   "version": "3.13.5"
  }
 },
 "nbformat": 4,
 "nbformat_minor": 4
}
